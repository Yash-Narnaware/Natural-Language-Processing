{
 "cells": [
  {
   "cell_type": "markdown",
   "id": "66c66e09",
   "metadata": {},
   "source": [
    "<h1> Bagvad Gita verse recommender"
   ]
  },
  {
   "cell_type": "code",
   "execution_count": 18,
   "id": "bffefc6e",
   "metadata": {},
   "outputs": [],
   "source": [
    "import csv\n",
    "import nltk\n",
    "import pandas as pd\n",
    "import gensim\n",
    "from gensim.models import Word2Vec,KeyedVectors\n",
    "from nltk.corpus import stopwords"
   ]
  },
  {
   "cell_type": "code",
   "execution_count": 19,
   "id": "4502bda6",
   "metadata": {},
   "outputs": [],
   "source": [
    "model = KeyedVectors.load_word2vec_format('GoogleNews-vectors-negative300.bin.gz',binary=True)"
   ]
  },
  {
   "cell_type": "code",
   "execution_count": 13,
   "id": "8c3f6255",
   "metadata": {},
   "outputs": [],
   "source": [
    "data = pd.read_csv(\"test.csv\",sep = \"<\",names = [\"verse_number\",\"verse\"])"
   ]
  },
  {
   "cell_type": "code",
   "execution_count": 14,
   "id": "5cc01f6a",
   "metadata": {},
   "outputs": [],
   "source": [
    "stop_words = set(stopwords.words('english'))\n",
    "\n",
    "def preprocess_and_vectorize(text):\n",
    "     \n",
    "    text = text.lower()\n",
    "    text = nltk.word_tokenize(text)\n",
    "    \n",
    "    temp = []\n",
    "    for i in text:\n",
    "        if i.isalnum() == True :\n",
    "            temp.append(i)\n",
    "    \n",
    "    temp1 = []\n",
    "    for i in temp:\n",
    "        if i not in stop_words:\n",
    "            temp1.append(i)\n",
    "            \n",
    "    temp2 = []\n",
    "    for i in temp1:\n",
    "        if i in model:\n",
    "            temp2.append(model[i])\n",
    "    \n",
    "    temp3 = np.mean(temp2, axis=0)\n",
    "    return(temp3)"
   ]
  },
  {
   "cell_type": "code",
   "execution_count": 15,
   "id": "a46731e4",
   "metadata": {},
   "outputs": [
    {
     "data": {
      "text/html": [
       "<div>\n",
       "<style scoped>\n",
       "    .dataframe tbody tr th:only-of-type {\n",
       "        vertical-align: middle;\n",
       "    }\n",
       "\n",
       "    .dataframe tbody tr th {\n",
       "        vertical-align: top;\n",
       "    }\n",
       "\n",
       "    .dataframe thead th {\n",
       "        text-align: right;\n",
       "    }\n",
       "</style>\n",
       "<table border=\"1\" class=\"dataframe\">\n",
       "  <thead>\n",
       "    <tr style=\"text-align: right;\">\n",
       "      <th></th>\n",
       "      <th>verse_number</th>\n",
       "      <th>verse</th>\n",
       "      <th>verse_vector</th>\n",
       "    </tr>\n",
       "  </thead>\n",
       "  <tbody>\n",
       "    <tr>\n",
       "      <th>0</th>\n",
       "      <td>Bhagavad Gita 1.1</td>\n",
       "      <td>Dhritarashtra said: O Sanjay, after gathering ...</td>\n",
       "      <td>[0.00788269, 0.07944336, 0.041064452, 0.032714...</td>\n",
       "    </tr>\n",
       "    <tr>\n",
       "      <th>1</th>\n",
       "      <td>Bhagavad Gita 1.2</td>\n",
       "      <td>Sanjay said: On observing the Pandava army sta...</td>\n",
       "      <td>[0.046243522, 0.073387735, 0.08195143, 0.03710...</td>\n",
       "    </tr>\n",
       "    <tr>\n",
       "      <th>2</th>\n",
       "      <td>Bhagavad Gita 1.3</td>\n",
       "      <td>Duryodhan said: Respected teacher! Behold the ...</td>\n",
       "      <td>[0.061749596, 0.08295005, 0.017211914, 0.03158...</td>\n",
       "    </tr>\n",
       "    <tr>\n",
       "      <th>3</th>\n",
       "      <td>Bhagavad Gita 1.4 – 1.6</td>\n",
       "      <td>Behold in their ranks are many powerful warrio...</td>\n",
       "      <td>[0.09231771, 0.15354614, 0.028857421, 0.074298...</td>\n",
       "    </tr>\n",
       "    <tr>\n",
       "      <th>4</th>\n",
       "      <td>Bhagavad Gita 1.7</td>\n",
       "      <td>O best of Brahmins, hear too about the princip...</td>\n",
       "      <td>[0.015946822, 0.00019975142, 0.086403586, 0.06...</td>\n",
       "    </tr>\n",
       "    <tr>\n",
       "      <th>...</th>\n",
       "      <td>...</td>\n",
       "      <td>...</td>\n",
       "      <td>...</td>\n",
       "    </tr>\n",
       "    <tr>\n",
       "      <th>635</th>\n",
       "      <td>Bhagavad Gita 18.74</td>\n",
       "      <td>Sanjay said: Thus, have I heard this wonderful...</td>\n",
       "      <td>[0.030911446, 0.03797245, 0.056991577, 0.03175...</td>\n",
       "    </tr>\n",
       "    <tr>\n",
       "      <th>636</th>\n",
       "      <td>Bhagavad Gita 18.75</td>\n",
       "      <td>By the grace of Veda Vyas, I have heard this s...</td>\n",
       "      <td>[0.04058685, 0.030804444, 0.091516115, 0.11866...</td>\n",
       "    </tr>\n",
       "    <tr>\n",
       "      <th>637</th>\n",
       "      <td>Bhagavad Gita 18.76</td>\n",
       "      <td>As I repeatedly recall this astonishing and wo...</td>\n",
       "      <td>[0.066407524, 0.040382385, 0.07615153, 0.09993...</td>\n",
       "    </tr>\n",
       "    <tr>\n",
       "      <th>638</th>\n",
       "      <td>Bhagavad Gita 18.77</td>\n",
       "      <td>And remembering that most astonishing and wond...</td>\n",
       "      <td>[0.11188438, 0.040213846, 0.07439076, 0.067449...</td>\n",
       "    </tr>\n",
       "    <tr>\n",
       "      <th>639</th>\n",
       "      <td>Bhagavad Gita 18.78</td>\n",
       "      <td>Wherever there is Shree Krishna, the Lord of a...</td>\n",
       "      <td>[0.10553966, 0.023718217, 0.011810303, 0.11667...</td>\n",
       "    </tr>\n",
       "  </tbody>\n",
       "</table>\n",
       "<p>640 rows × 3 columns</p>\n",
       "</div>"
      ],
      "text/plain": [
       "                verse_number  \\\n",
       "0          Bhagavad Gita 1.1   \n",
       "1          Bhagavad Gita 1.2   \n",
       "2          Bhagavad Gita 1.3   \n",
       "3    Bhagavad Gita 1.4 – 1.6   \n",
       "4          Bhagavad Gita 1.7   \n",
       "..                       ...   \n",
       "635      Bhagavad Gita 18.74   \n",
       "636      Bhagavad Gita 18.75   \n",
       "637      Bhagavad Gita 18.76   \n",
       "638      Bhagavad Gita 18.77   \n",
       "639      Bhagavad Gita 18.78   \n",
       "\n",
       "                                                 verse  \\\n",
       "0    Dhritarashtra said: O Sanjay, after gathering ...   \n",
       "1    Sanjay said: On observing the Pandava army sta...   \n",
       "2    Duryodhan said: Respected teacher! Behold the ...   \n",
       "3    Behold in their ranks are many powerful warrio...   \n",
       "4    O best of Brahmins, hear too about the princip...   \n",
       "..                                                 ...   \n",
       "635  Sanjay said: Thus, have I heard this wonderful...   \n",
       "636  By the grace of Veda Vyas, I have heard this s...   \n",
       "637  As I repeatedly recall this astonishing and wo...   \n",
       "638  And remembering that most astonishing and wond...   \n",
       "639  Wherever there is Shree Krishna, the Lord of a...   \n",
       "\n",
       "                                          verse_vector  \n",
       "0    [0.00788269, 0.07944336, 0.041064452, 0.032714...  \n",
       "1    [0.046243522, 0.073387735, 0.08195143, 0.03710...  \n",
       "2    [0.061749596, 0.08295005, 0.017211914, 0.03158...  \n",
       "3    [0.09231771, 0.15354614, 0.028857421, 0.074298...  \n",
       "4    [0.015946822, 0.00019975142, 0.086403586, 0.06...  \n",
       "..                                                 ...  \n",
       "635  [0.030911446, 0.03797245, 0.056991577, 0.03175...  \n",
       "636  [0.04058685, 0.030804444, 0.091516115, 0.11866...  \n",
       "637  [0.066407524, 0.040382385, 0.07615153, 0.09993...  \n",
       "638  [0.11188438, 0.040213846, 0.07439076, 0.067449...  \n",
       "639  [0.10553966, 0.023718217, 0.011810303, 0.11667...  \n",
       "\n",
       "[640 rows x 3 columns]"
      ]
     },
     "execution_count": 15,
     "metadata": {},
     "output_type": "execute_result"
    }
   ],
   "source": [
    "data['verse_vector'] = data['verse'].apply(preprocess_and_vectorize)\n",
    "data"
   ]
  },
  {
   "cell_type": "code",
   "execution_count": 16,
   "id": "6371b497",
   "metadata": {},
   "outputs": [
    {
     "name": "stdout",
     "output_type": "stream",
     "text": [
      "Enter the text = what is meaning of life?\n"
     ]
    }
   ],
   "source": [
    "user_input = input(\"Enter the text = \")\n",
    "user_input = preprocess_and_vectorize(user_input)"
   ]
  },
  {
   "cell_type": "code",
   "execution_count": 17,
   "id": "1d0c78d1",
   "metadata": {},
   "outputs": [
    {
     "name": "stdout",
     "output_type": "stream",
     "text": [
      "Bhagavad Gita 2.72 O Parth, such is the state of an enlightened soul that having attained it, one is never again deluded. Being established in this consciousness even at the hour of death, one is liberated from the cycle of life and death and reaches the Supreme Abode of God.\n",
      "\n",
      "\n",
      "Bhagavad Gita 2.51 The wise endowed with equanimity of intellect, abandon attachment to the fruits of actions, which bind one to the cycle of life and death. By working in such consciousness, they attain the state beyond all suffering.\n",
      "\n",
      "\n",
      "Bhagavad Gita 14.3 – 14.4 The total material substance, prakṛiti, is the womb. I impregnate it with the individual souls, and thus all living beings are born. O son of Kunti, for all species of life that are produced, the material nature is the womb, and I am the seed-giving Father.\n",
      "\n",
      "\n",
      "Bhagavad Gita 15.15 I am seated in the hearts of all living beings, and from Me come memory, knowledge, as well as forgetfulness. I alone am to be known by all the Vedas, am the author of the Vedant, and the knower of the meaning of the Vedas.\n",
      "\n",
      "\n",
      "Bhagavad Gita 13.24 Those who understand the truth about Supreme Soul, the individual soul, material nature, and the interaction of the three modes of nature will not take birth here again. They will be liberated regardless of their present condition.\n",
      "\n",
      "\n"
     ]
    }
   ],
   "source": [
    "cos_sim = []\n",
    "for i in data['verse_vector']:\n",
    "#     print(i.shape)\n",
    "    result = 1 - spatial.distance.cosine(i, user_input)\n",
    "    cos_sim.append(result)\n",
    "    \n",
    "most_relevant = sorted(list(enumerate(cos_sim)),reverse=True,key = lambda x: x[1])\n",
    "for i in most_relevant[0:5]:\n",
    "    print(data.iloc[i[0]].verse_number,data.iloc[i[0]].verse)\n",
    "    print(\"\\n\")"
   ]
  },
  {
   "cell_type": "code",
   "execution_count": null,
   "id": "d6d01c8b",
   "metadata": {},
   "outputs": [],
   "source": []
  }
 ],
 "metadata": {
  "kernelspec": {
   "display_name": "Python 3 (ipykernel)",
   "language": "python",
   "name": "python3"
  },
  "language_info": {
   "codemirror_mode": {
    "name": "ipython",
    "version": 3
   },
   "file_extension": ".py",
   "mimetype": "text/x-python",
   "name": "python",
   "nbconvert_exporter": "python",
   "pygments_lexer": "ipython3",
   "version": "3.9.7"
  }
 },
 "nbformat": 4,
 "nbformat_minor": 5
}
